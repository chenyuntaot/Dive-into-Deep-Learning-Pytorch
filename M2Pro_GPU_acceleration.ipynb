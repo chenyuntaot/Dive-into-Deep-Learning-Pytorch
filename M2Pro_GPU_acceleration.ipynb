{
 "cells": [
  {
   "cell_type": "markdown",
   "metadata": {},
   "source": [
    "# M2 Pro 使用GPU加速"
   ]
  },
  {
   "cell_type": "code",
   "execution_count": 1,
   "metadata": {},
   "outputs": [
    {
     "name": "stdout",
     "output_type": "stream",
     "text": [
      "True\n",
      "True\n"
     ]
    }
   ],
   "source": [
    "import torch\n",
    "import math\n",
    "\n",
    "print(torch.backends.mps.is_available())\n",
    "\n",
    "print(torch.backends.mps.is_built())"
   ]
  },
  {
   "cell_type": "code",
   "execution_count": 2,
   "metadata": {},
   "outputs": [],
   "source": [
    "N = 100000000\n",
    "\n",
    "device = torch.device('mps')"
   ]
  },
  {
   "cell_type": "code",
   "execution_count": 3,
   "metadata": {},
   "outputs": [
    {
     "name": "stdout",
     "output_type": "stream",
     "text": [
      "100000000 cpu cpu\n"
     ]
    }
   ],
   "source": [
    "cpu_a = torch.randn([1,N])\n",
    "cpu_b = torch.randn([N,1])\n",
    "\n",
    "print(N, cpu_a.device , cpu_b.device)"
   ]
  },
  {
   "cell_type": "code",
   "execution_count": 4,
   "metadata": {},
   "outputs": [
    {
     "name": "stdout",
     "output_type": "stream",
     "text": [
      "100000000 mps:0 mps:0\n"
     ]
    }
   ],
   "source": [
    "gpu_a = torch.randn([1,N],device=device)\n",
    "gpu_b = torch.randn([N,1],device=device)\n",
    "\n",
    "print(N, gpu_a.device , gpu_b.device)"
   ]
  },
  {
   "cell_type": "code",
   "execution_count": 5,
   "metadata": {},
   "outputs": [],
   "source": [
    "def cpu_run():\n",
    "    c = torch.matmul(cpu_a,cpu_b)\n",
    "    return c"
   ]
  },
  {
   "cell_type": "code",
   "execution_count": 6,
   "metadata": {},
   "outputs": [],
   "source": [
    "def gpu_run():\n",
    "    c = torch.matmul(gpu_a,gpu_b)\n",
    "    return c"
   ]
  },
  {
   "cell_type": "code",
   "execution_count": 7,
   "metadata": {},
   "outputs": [
    {
     "name": "stdout",
     "output_type": "stream",
     "text": [
      "warmup:  0.08233841699257027 0.04056454199599102\n"
     ]
    }
   ],
   "source": [
    "import timeit\n",
    "#第一次计算， 热身\n",
    "cpu_time = timeit.timeit(cpu_run,number=3)\n",
    "gpu_time = timeit.timeit(gpu_run,number=3)\n",
    "\n",
    "print('warmup: ',cpu_time, gpu_time)"
   ]
  },
  {
   "cell_type": "code",
   "execution_count": 8,
   "metadata": {},
   "outputs": [
    {
     "name": "stdout",
     "output_type": "stream",
     "text": [
      "warmup:  0.13635558300302364 0.0009869170025922358\n"
     ]
    }
   ],
   "source": [
    "#正式计算\n",
    "cpu_time = timeit.timeit(cpu_run,number=10)\n",
    "gpu_time = timeit.timeit(gpu_run,number=10)\n",
    "\n",
    "print('warmup: ',cpu_time, gpu_time)"
   ]
  }
 ],
 "metadata": {
  "kernelspec": {
   "display_name": "pytorch",
   "language": "python",
   "name": "python3"
  },
  "language_info": {
   "codemirror_mode": {
    "name": "ipython",
    "version": 3
   },
   "file_extension": ".py",
   "mimetype": "text/x-python",
   "name": "python",
   "nbconvert_exporter": "python",
   "pygments_lexer": "ipython3",
   "version": "3.10.11"
  },
  "orig_nbformat": 4
 },
 "nbformat": 4,
 "nbformat_minor": 2
}
